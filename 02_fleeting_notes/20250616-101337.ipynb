{
 "cells": [
  {
   "cell_type": "raw",
   "id": "c172cb5a",
   "metadata": {},
   "source": [
    "---\n",
    "title: 20250616-101337\n",
    "tags:\n",
    "  - zettel 2025\n",
    "---"
   ]
  },
  {
   "cell_type": "markdown",
   "id": "c6aedaf0",
   "metadata": {},
   "source": [
    "|       Created       |    Last Modified    |          Exists Since           |\n",
    "| :-----------------: | :-----------------: | :-----------------------------: |\n",
    "| `= this.file.ctime` | `= this.file.mtime` | `= date(now) - this.file.ctime` |\n",
    "\n",
    "# 20250616-101337\n",
    "\n",
    "# References"
   ]
  }
 ],
 "metadata": {
  "jupytext": {
   "cell_metadata_filter": "-all",
   "formats": "ipynb,md",
   "main_language": "python"
  }
 },
 "nbformat": 4,
 "nbformat_minor": 5
}
